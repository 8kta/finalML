{
 "cells": [
  {
   "cell_type": "markdown",
   "metadata": {},
   "source": [
    "# Proyecto final\n",
    "## Analisis de los datos"
   ]
  },
  {
   "cell_type": "markdown",
   "metadata": {},
   "source": [
    "Loading libraries"
   ]
  },
  {
   "cell_type": "code",
   "execution_count": 174,
   "metadata": {},
   "outputs": [],
   "source": [
    "from scipy import stats\n",
    "from sklearn import datasets\n",
    "import numpy as np\n",
    "import pandas as pd \n",
    "import math\n",
    "import random\n",
    "import matplotlib.pyplot as plt\n",
    "from mpl_toolkits.mplot3d import Axes3D\n",
    "import string\n",
    "\n",
    "import numpy as np\n",
    "import matplotlib.pyplot as plt\n",
    "from tensorflow.keras.layers import Input, Dense\n",
    "from tensorflow.keras.models import Model\n",
    "from tensorflow.keras.optimizers import Adam\n",
    "from sklearn.preprocessing import PolynomialFeatures\n",
    "\n",
    "from sklearn.linear_model import Lasso\n",
    "from sklearn.linear_model import Ridge\n",
    "from sklearn.linear_model import LinearRegression\n",
    "\n",
    "import time\n",
    "\n",
    "from sklearn.linear_model import LassoCV, LassoLarsCV, LassoLarsIC\n",
    "from sklearn import datasets"
   ]
  },
  {
   "cell_type": "markdown",
   "metadata": {},
   "source": [
    "we read the database"
   ]
  },
  {
   "cell_type": "code",
   "execution_count": 189,
   "metadata": {},
   "outputs": [],
   "source": [
    "data_set = pd.read_csv('problem1.csv',sep=',',header='infer') \n",
    "db = data_set.copy()"
   ]
  },
  {
   "cell_type": "code",
   "execution_count": 23,
   "metadata": {
    "scrolled": true
   },
   "outputs": [
    {
     "data": {
      "text/html": [
       "<div>\n",
       "<style scoped>\n",
       "    .dataframe tbody tr th:only-of-type {\n",
       "        vertical-align: middle;\n",
       "    }\n",
       "\n",
       "    .dataframe tbody tr th {\n",
       "        vertical-align: top;\n",
       "    }\n",
       "\n",
       "    .dataframe thead th {\n",
       "        text-align: right;\n",
       "    }\n",
       "</style>\n",
       "<table border=\"1\" class=\"dataframe\">\n",
       "  <thead>\n",
       "    <tr style=\"text-align: right;\">\n",
       "      <th></th>\n",
       "      <th>X_training</th>\n",
       "      <th>Y_training</th>\n",
       "      <th>X_test</th>\n",
       "      <th>Y_test</th>\n",
       "    </tr>\n",
       "  </thead>\n",
       "  <tbody>\n",
       "    <tr>\n",
       "      <th>0</th>\n",
       "      <td>-2.00</td>\n",
       "      <td>22.067387</td>\n",
       "      <td>2.00</td>\n",
       "      <td>6.024049</td>\n",
       "    </tr>\n",
       "    <tr>\n",
       "      <th>1</th>\n",
       "      <td>-1.97</td>\n",
       "      <td>19.944915</td>\n",
       "      <td>2.05</td>\n",
       "      <td>6.885408</td>\n",
       "    </tr>\n",
       "    <tr>\n",
       "      <th>2</th>\n",
       "      <td>-1.94</td>\n",
       "      <td>18.062490</td>\n",
       "      <td>2.10</td>\n",
       "      <td>7.578968</td>\n",
       "    </tr>\n",
       "    <tr>\n",
       "      <th>3</th>\n",
       "      <td>-1.91</td>\n",
       "      <td>16.384313</td>\n",
       "      <td>2.15</td>\n",
       "      <td>8.439467</td>\n",
       "    </tr>\n",
       "    <tr>\n",
       "      <th>4</th>\n",
       "      <td>-1.88</td>\n",
       "      <td>14.567798</td>\n",
       "      <td>2.20</td>\n",
       "      <td>9.554611</td>\n",
       "    </tr>\n",
       "  </tbody>\n",
       "</table>\n",
       "</div>"
      ],
      "text/plain": [
       "   X_training  Y_training  X_test    Y_test\n",
       "0       -2.00   22.067387    2.00  6.024049\n",
       "1       -1.97   19.944915    2.05  6.885408\n",
       "2       -1.94   18.062490    2.10  7.578968\n",
       "3       -1.91   16.384313    2.15  8.439467\n",
       "4       -1.88   14.567798    2.20  9.554611"
      ]
     },
     "execution_count": 23,
     "metadata": {},
     "output_type": "execute_result"
    }
   ],
   "source": [
    "data_set.head()"
   ]
  },
  {
   "cell_type": "markdown",
   "metadata": {},
   "source": [
    "split the data"
   ]
  },
  {
   "cell_type": "code",
   "execution_count": 262,
   "metadata": {},
   "outputs": [],
   "source": [
    "x_train = db.loc[:,'X_training']\n",
    "y_train = db.loc[:,'Y_training']\n",
    "x_test = db.loc[:,'X_test']\n",
    "y_test = db.loc[:,'Y_test']"
   ]
  },
  {
   "cell_type": "markdown",
   "metadata": {},
   "source": [
    "show dataframe statistics description"
   ]
  },
  {
   "cell_type": "code",
   "execution_count": 254,
   "metadata": {},
   "outputs": [
    {
     "data": {
      "text/plain": [
       "<bound method DataFrame.transpose of        X_training  Y_training     X_test     Y_test\n",
       "count  134.000000  134.000000  21.000000  21.000000\n",
       "mean    -0.005000    4.467058   2.500000  24.051462\n",
       "std      1.164796    4.725730   0.310242  15.829402\n",
       "min     -2.000000   -3.215449   2.000000   6.024049\n",
       "25%     -1.002500    1.025247   2.250000  10.845279\n",
       "50%     -0.005000    4.939851   2.500000  19.726772\n",
       "75%      0.992500    7.447520   2.750000  34.523070\n",
       "max      1.990000   22.067387   3.000000  57.061905>"
      ]
     },
     "execution_count": 254,
     "metadata": {},
     "output_type": "execute_result"
    }
   ],
   "source": [
    "data = db.describe()\n",
    "#data.pop('MPG')\n",
    "data = data.transpose\n",
    "data"
   ]
  },
  {
   "cell_type": "markdown",
   "metadata": {},
   "source": [
    "We observe that the mean values from X_training and Y_traing are far away;  -0.005000 and 4.467058. But the standard deviation show that the confidence interval of each is not disjoint of the other, so we can decide not to standarize the data.\n",
    "\n",
    "Then we prepare the data for the grade of polynomial we want to predict"
   ]
  },
  {
   "cell_type": "code",
   "execution_count": 263,
   "metadata": {},
   "outputs": [
    {
     "name": "stdout",
     "output_type": "stream",
     "text": [
      "What grade of polynomial do you want?\n",
      "5\n"
     ]
    }
   ],
   "source": [
    "X_test_sin_na = pd.DataFrame(x_test).dropna()\n",
    "\n",
    "\n",
    "#matriz para el polinomio\n",
    "pol_data_train = {}\n",
    "pol_data_test = {}\n",
    "alphabet_string = string.ascii_lowercase\n",
    "gr = input('What grade of polynomial do you want?\\n')\n",
    "\n",
    "gr = int(gr)\n",
    "for a in range(1,gr+1,1):\n",
    "    no = alphabet_string[a-1]\n",
    "    train = {no : x_train**a }\n",
    "    test = {no : x_test**a }\n",
    "    pol_data_train.update(train)\n",
    "    pol_data_test.update(test)\n",
    "    \n",
    "    \n",
    "#pol_data_test\n",
    "pol_train = pd.DataFrame.from_dict(pol_data_train , orient='columns')\n",
    "pol_test = pd.DataFrame.from_dict(pol_data_test , orient='columns').dropna()\n",
    "\n"
   ]
  },
  {
   "cell_type": "markdown",
   "metadata": {},
   "source": [
    "## Regresiones\n",
    "### Modelo Lasso\n",
    "We prepare lasso model"
   ]
  },
  {
   "cell_type": "code",
   "execution_count": 270,
   "metadata": {},
   "outputs": [
    {
     "name": "stdout",
     "output_type": "stream",
     "text": [
      "What alpha parameter do you want?\n",
      ".001\n",
      "The Lasso model with parameter 0.001 is:\n"
     ]
    },
    {
     "data": {
      "text/html": [
       "<div>\n",
       "<style scoped>\n",
       "    .dataframe tbody tr th:only-of-type {\n",
       "        vertical-align: middle;\n",
       "    }\n",
       "\n",
       "    .dataframe tbody tr th {\n",
       "        vertical-align: top;\n",
       "    }\n",
       "\n",
       "    .dataframe thead th {\n",
       "        text-align: right;\n",
       "    }\n",
       "</style>\n",
       "<table border=\"1\" class=\"dataframe\">\n",
       "  <thead>\n",
       "    <tr style=\"text-align: right;\">\n",
       "      <th></th>\n",
       "      <th>0</th>\n",
       "    </tr>\n",
       "  </thead>\n",
       "  <tbody>\n",
       "    <tr>\n",
       "      <th>0</th>\n",
       "      <td>5.936321</td>\n",
       "    </tr>\n",
       "    <tr>\n",
       "      <th>1</th>\n",
       "      <td>6.579447</td>\n",
       "    </tr>\n",
       "    <tr>\n",
       "      <th>2</th>\n",
       "      <td>7.350086</td>\n",
       "    </tr>\n",
       "    <tr>\n",
       "      <th>3</th>\n",
       "      <td>8.258248</td>\n",
       "    </tr>\n",
       "    <tr>\n",
       "      <th>4</th>\n",
       "      <td>9.314237</td>\n",
       "    </tr>\n",
       "  </tbody>\n",
       "</table>\n",
       "</div>"
      ],
      "text/plain": [
       "          0\n",
       "0  5.936321\n",
       "1  6.579447\n",
       "2  7.350086\n",
       "3  8.258248\n",
       "4  9.314237"
      ]
     },
     "execution_count": 270,
     "metadata": {},
     "output_type": "execute_result"
    }
   ],
   "source": [
    "alphalm = input('What alpha parameter do you want?\\n')\n",
    "while True:\n",
    "    try:\n",
    "        alph1 = float(alphalm)\n",
    "        print('The Lasso model with parameter',alph1,'is:')\n",
    "        break\n",
    "    except:\n",
    "        print('The alpha must be a number.')\n",
    "        alphalm = input('What alpha parameter do you want?\\n')\n",
    "        \n",
    "        \n",
    "lm = Lasso(alpha=float(alphalm), max_iter=1e6)\n",
    "lm.fit(pol_train, y_train)\n",
    "salida = pd.DataFrame(lm.predict(pol_test))\n",
    "salida.head()"
   ]
  },
  {
   "cell_type": "code",
   "execution_count": 271,
   "metadata": {},
   "outputs": [
    {
     "name": "stdout",
     "output_type": "stream",
     "text": [
      "Los coeficientes del polinomio son: \n",
      "\n",
      "8.004110238866911\n",
      "-5.980473007938191\n",
      "-2.9845264083467926\n",
      "1.9929016987534423\n",
      "-0.00485119607039648\n"
     ]
    }
   ],
   "source": [
    "print('Los coeficientes del polinomio son: \\n')\n",
    "for b in range(0,len(lm.coef_)):\n",
    "    print(lm.coef_[b])"
   ]
  },
  {
   "cell_type": "code",
   "execution_count": 272,
   "metadata": {},
   "outputs": [
    {
     "data": {
      "image/png": "[encoded data removed]",
      "text/plain": [
       "<Figure size 432x288 with 1 Axes>"
      ]
     },
     "metadata": {
      "needs_background": "light"
     },
     "output_type": "display_data"
    }
   ],
   "source": [
    "plt.plot(pol_test.a, salida,'b', alpha=.6 , label='Prediction')\n",
    "plt.plot(pol_test.a, pd.DataFrame(y_test).dropna() ,'r--', label='Data')\n",
    "plt.legend(loc='best', frameon=False)\n",
    "plt.xlabel(no)\n",
    "plt.ylabel('y')\n",
    "plt.show()"
   ]
  },
  {
   "cell_type": "markdown",
   "metadata": {},
   "source": [
    "### Model Selection\n",
    "We will explore different polynomials and check which provides the best fitting as well as the least AIC."
   ]
  },
  {
   "cell_type": "code",
   "execution_count": 274,
   "metadata": {},
   "outputs": [
    {
     "ename": "NameError",
     "evalue": "name 'LassoLarsIC' is not defined",
     "output_type": "error",
     "traceback": [
      "\u001b[0;31m---------------------------------------------------------------------------\u001b[0m",
      "\u001b[0;31mNameError\u001b[0m                                 Traceback (most recent call last)",
      "\u001b[0;32m<ipython-input-274-bc62f72f7707>\u001b[0m in \u001b[0;36m<module>\u001b[0;34m\u001b[0m\n\u001b[1;32m      4\u001b[0m \u001b[0;31m# LassoLarsIC: least angle regression with BIC/AIC criterion\u001b[0m\u001b[0;34m\u001b[0m\u001b[0;34m\u001b[0m\u001b[0;34m\u001b[0m\u001b[0m\n\u001b[1;32m      5\u001b[0m \u001b[0;34m\u001b[0m\u001b[0m\n\u001b[0;32m----> 6\u001b[0;31m \u001b[0mmodel_bic\u001b[0m \u001b[0;34m=\u001b[0m \u001b[0mLassoLarsIC\u001b[0m\u001b[0;34m(\u001b[0m\u001b[0mcriterion\u001b[0m\u001b[0;34m=\u001b[0m\u001b[0;34m'bic'\u001b[0m\u001b[0;34m)\u001b[0m\u001b[0;34m\u001b[0m\u001b[0;34m\u001b[0m\u001b[0m\n\u001b[0m\u001b[1;32m      7\u001b[0m \u001b[0mt1\u001b[0m \u001b[0;34m=\u001b[0m \u001b[0mtime\u001b[0m\u001b[0;34m.\u001b[0m\u001b[0mtime\u001b[0m\u001b[0;34m(\u001b[0m\u001b[0;34m)\u001b[0m\u001b[0;34m\u001b[0m\u001b[0;34m\u001b[0m\u001b[0m\n\u001b[1;32m      8\u001b[0m \u001b[0mmodel_bic\u001b[0m\u001b[0;34m.\u001b[0m\u001b[0mfit\u001b[0m\u001b[0;34m(\u001b[0m\u001b[0mpol_train\u001b[0m\u001b[0;34m,\u001b[0m \u001b[0my_train\u001b[0m\u001b[0;34m)\u001b[0m\u001b[0;34m\u001b[0m\u001b[0;34m\u001b[0m\u001b[0m\n",
      "\u001b[0;31mNameError\u001b[0m: name 'LassoLarsIC' is not defined"
     ]
    }
   ],
   "source": [
    "# This is to avoid division by zero while doing np.log10\n",
    "EPSILON = 1e-4\n",
    "\n",
    "# LassoLarsIC: least angle regression with BIC/AIC criterion\n",
    "\n",
    "model_bic = LassoLarsIC(criterion='bic')\n",
    "t1 = time.time()\n",
    "model_bic.fit(pol_train, y_train)\n",
    "t_bic = time.time() - t1\n",
    "alpha_bic_ = model_bic.alpha_\n",
    "\n",
    "model_aic = LassoLarsIC(criterion='aic')\n",
    "model_aic.fit(pol_train, y_train)\n",
    "alpha_aic_ = model_aic.alpha_\n",
    "\n",
    "\n",
    "def plot_ic_criterion(model, name, color):\n",
    "    criterion_ = model.criterion_\n",
    "    plt.semilogx(model.alphas_ + EPSILON, criterion_, '--', color=color,\n",
    "                 linewidth=3, label='%s criterion' % name)\n",
    "    plt.axvline(model.alpha_ + EPSILON, color=color, linewidth=3,\n",
    "                label='alpha: %s estimate' % name)\n",
    "    plt.xlabel(r'$\\alpha$')\n",
    "    plt.ylabel('criterion')\n",
    "\n",
    "\n",
    "plt.figure()\n",
    "plot_ic_criterion(model_aic, 'AIC', 'b')\n",
    "plot_ic_criterion(model_bic, 'BIC', 'r')\n",
    "plt.legend()\n",
    "plt.title('Information-criterion for model selection (training time %.3fs)'\n",
    "          % t_bic)"
   ]
  },
  {
   "cell_type": "code",
   "execution_count": null,
   "metadata": {},
   "outputs": [],
   "source": []
  }
 ],
 "metadata": {
  "kernelspec": {
   "display_name": "Python 3",
   "language": "python",
   "name": "python3"
  },
  "language_info": {
   "codemirror_mode": {
    "name": "ipython",
    "version": 3
   },
   "file_extension": ".py",
   "mimetype": "text/x-python",
   "name": "python",
   "nbconvert_exporter": "python",
   "pygments_lexer": "ipython3",
   "version": "3.8.3"
  }
 },
 "nbformat": 4,
 "nbformat_minor": 4
}
