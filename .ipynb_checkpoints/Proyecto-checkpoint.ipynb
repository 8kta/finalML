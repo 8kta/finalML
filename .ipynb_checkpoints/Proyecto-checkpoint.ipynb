{
 "cells": [
  {
   "cell_type": "markdown",
   "metadata": {},
   "source": [
    "# Proyecto final\n",
    "## Analisis de los datos"
   ]
  },
  {
   "cell_type": "markdown",
   "metadata": {},
   "source": [
    "Cargamos las librerias"
   ]
  },
  {
   "cell_type": "code",
   "execution_count": 174,
   "metadata": {},
   "outputs": [],
   "source": [
    "from scipy import stats\n",
    "from sklearn import datasets\n",
    "import numpy as np\n",
    "import pandas as pd \n",
    "import math\n",
    "import random\n",
    "import matplotlib.pyplot as plt\n",
    "from mpl_toolkits.mplot3d import Axes3D\n",
    "import string\n",
    "\n",
    "import numpy as np\n",
    "import matplotlib.pyplot as plt\n",
    "from tensorflow.keras.layers import Input, Dense\n",
    "from tensorflow.keras.models import Model\n",
    "from tensorflow.keras.optimizers import Adam\n",
    "from sklearn.preprocessing import PolynomialFeatures\n",
    "\n",
    "from sklearn.linear_model import Lasso\n",
    "from sklearn.linear_model import Ridge\n",
    "from sklearn.linear_model import LinearRegression"
   ]
  },
  {
   "cell_type": "markdown",
   "metadata": {},
   "source": [
    "cargamos la base de datos"
   ]
  },
  {
   "cell_type": "code",
   "execution_count": 189,
   "metadata": {},
   "outputs": [],
   "source": [
    "data_set = pd.read_csv('problem1.csv',sep=',',header='infer') \n",
    "db = data_set.copy()"
   ]
  },
  {
   "cell_type": "code",
   "execution_count": 23,
   "metadata": {
    "scrolled": true
   },
   "outputs": [
    {
     "data": {
      "text/html": [
       "<div>\n",
       "<style scoped>\n",
       "    .dataframe tbody tr th:only-of-type {\n",
       "        vertical-align: middle;\n",
       "    }\n",
       "\n",
       "    .dataframe tbody tr th {\n",
       "        vertical-align: top;\n",
       "    }\n",
       "\n",
       "    .dataframe thead th {\n",
       "        text-align: right;\n",
       "    }\n",
       "</style>\n",
       "<table border=\"1\" class=\"dataframe\">\n",
       "  <thead>\n",
       "    <tr style=\"text-align: right;\">\n",
       "      <th></th>\n",
       "      <th>X_training</th>\n",
       "      <th>Y_training</th>\n",
       "      <th>X_test</th>\n",
       "      <th>Y_test</th>\n",
       "    </tr>\n",
       "  </thead>\n",
       "  <tbody>\n",
       "    <tr>\n",
       "      <th>0</th>\n",
       "      <td>-2.00</td>\n",
       "      <td>22.067387</td>\n",
       "      <td>2.00</td>\n",
       "      <td>6.024049</td>\n",
       "    </tr>\n",
       "    <tr>\n",
       "      <th>1</th>\n",
       "      <td>-1.97</td>\n",
       "      <td>19.944915</td>\n",
       "      <td>2.05</td>\n",
       "      <td>6.885408</td>\n",
       "    </tr>\n",
       "    <tr>\n",
       "      <th>2</th>\n",
       "      <td>-1.94</td>\n",
       "      <td>18.062490</td>\n",
       "      <td>2.10</td>\n",
       "      <td>7.578968</td>\n",
       "    </tr>\n",
       "    <tr>\n",
       "      <th>3</th>\n",
       "      <td>-1.91</td>\n",
       "      <td>16.384313</td>\n",
       "      <td>2.15</td>\n",
       "      <td>8.439467</td>\n",
       "    </tr>\n",
       "    <tr>\n",
       "      <th>4</th>\n",
       "      <td>-1.88</td>\n",
       "      <td>14.567798</td>\n",
       "      <td>2.20</td>\n",
       "      <td>9.554611</td>\n",
       "    </tr>\n",
       "  </tbody>\n",
       "</table>\n",
       "</div>"
      ],
      "text/plain": [
       "   X_training  Y_training  X_test    Y_test\n",
       "0       -2.00   22.067387    2.00  6.024049\n",
       "1       -1.97   19.944915    2.05  6.885408\n",
       "2       -1.94   18.062490    2.10  7.578968\n",
       "3       -1.91   16.384313    2.15  8.439467\n",
       "4       -1.88   14.567798    2.20  9.554611"
      ]
     },
     "execution_count": 23,
     "metadata": {},
     "output_type": "execute_result"
    }
   ],
   "source": [
    "data_set.head()"
   ]
  },
  {
   "cell_type": "code",
   "execution_count": 190,
   "metadata": {},
   "outputs": [
    {
     "data": {
      "text/plain": [
       "0     -2.00\n",
       "1     -1.97\n",
       "2     -1.94\n",
       "3     -1.91\n",
       "4     -1.88\n",
       "       ... \n",
       "129    1.87\n",
       "130    1.90\n",
       "131    1.93\n",
       "132    1.96\n",
       "133    1.99\n",
       "Name: X_training, Length: 134, dtype: float64"
      ]
     },
     "execution_count": 190,
     "metadata": {},
     "output_type": "execute_result"
    }
   ],
   "source": [
    "#type(x_train**2)\n",
    "#len(range(1,5+1,1))\n",
    "#type(train**6)\n",
    "#pol_data = pd.DataFrame()\n",
    "type(pol_data)\n",
    "x_train**1"
   ]
  },
  {
   "cell_type": "code",
   "execution_count": 214,
   "metadata": {},
   "outputs": [
    {
     "name": "stdout",
     "output_type": "stream",
     "text": [
      "What grade of polynomial do you want?\n",
      "4\n"
     ]
    }
   ],
   "source": [
    "X_test_sin_na = pd.DataFrame(x_test).dropna()\n",
    "\n",
    "\n",
    "#matriz para el polinomio\n",
    "pol_data_train = {}\n",
    "pol_data_test = {}\n",
    "alphabet_string = string.ascii_lowercase\n",
    "gr = input('What grade of polynomial do you want?\\n')\n",
    "\n",
    "gr = int(gr)\n",
    "for a in range(1,gr+1,1):\n",
    "    no = alphabet_string[a-1]\n",
    "    train = {no : x_train**a }\n",
    "    test = {no : x_test**a }\n",
    "    pol_data_train.update(train)\n",
    "    pol_data_test.update(test)\n",
    "    \n",
    "    \n",
    "#pol_data_test\n",
    "#pol_train = pd.DataFrame.from_dict(pol_data_train , orient='columns')\n",
    "pol_test = pd.DataFrame.from_dict(pol_data_test , orient='columns').dropna()\n"
   ]
  },
  {
   "cell_type": "code",
   "execution_count": null,
   "metadata": {},
   "outputs": [],
   "source": []
  },
  {
   "cell_type": "markdown",
   "metadata": {},
   "source": [
    "de aqui sacamos los datos que necesitamos"
   ]
  },
  {
   "cell_type": "code",
   "execution_count": 53,
   "metadata": {},
   "outputs": [
    {
     "data": {
      "text/plain": [
       "pandas.core.frame.DataFrame"
      ]
     },
     "execution_count": 53,
     "metadata": {},
     "output_type": "execute_result"
    }
   ],
   "source": [
    "x_train = db.loc[:,'X_training']\n",
    "y_train = db.loc[:,'Y_training']\n",
    "x_test = db.loc[:,'X_test']\n",
    "y_test = db.loc[:,'Y_test']\n",
    "type(pd.DataFrame(x_train))"
   ]
  },
  {
   "cell_type": "markdown",
   "metadata": {},
   "source": [
    "vemos más a fondo las descripciones de los datos"
   ]
  },
  {
   "cell_type": "code",
   "execution_count": 38,
   "metadata": {},
   "outputs": [
    {
     "data": {
      "text/plain": [
       "<bound method DataFrame.transpose of        X_training  Y_training     X_test     Y_test\n",
       "count  134.000000  134.000000  21.000000  21.000000\n",
       "mean    -0.005000    4.467058   2.500000  24.051462\n",
       "std      1.164796    4.725730   0.310242  15.829402\n",
       "min     -2.000000   -3.215449   2.000000   6.024049\n",
       "25%     -1.002500    1.025247   2.250000  10.845279\n",
       "50%     -0.005000    4.939851   2.500000  19.726772\n",
       "75%      0.992500    7.447520   2.750000  34.523070\n",
       "max      1.990000   22.067387   3.000000  57.061905>"
      ]
     },
     "execution_count": 38,
     "metadata": {},
     "output_type": "execute_result"
    }
   ],
   "source": [
    "data = db.describe()\n",
    "#data.pop('MPG')\n",
    "data = data.transpose\n",
    "data"
   ]
  },
  {
   "cell_type": "markdown",
   "metadata": {},
   "source": [
    "observamos que las medias están alejadas pero la desviación estandar de Y_training junto con\n",
    "la de X_training hacen que estas no esten tan alejadas. Por lo que concluyo que no es \n",
    "necesario estandarizar los datos."
   ]
  },
  {
   "cell_type": "markdown",
   "metadata": {},
   "source": [
    "## Regresiones\n",
    "### Modelo Lasso"
   ]
  },
  {
   "cell_type": "code",
   "execution_count": 239,
   "metadata": {},
   "outputs": [
    {
     "name": "stdout",
     "output_type": "stream",
     "text": [
      "What alpha parameter do you want?\n",
      ".1\n",
      "The Lasso model with parameter 0.1 is:\n"
     ]
    },
    {
     "data": {
      "text/plain": [
       "array([ 7.41256883, -4.93002537, -2.78611201,  1.7100343 ])"
      ]
     },
     "execution_count": 239,
     "metadata": {},
     "output_type": "execute_result"
    }
   ],
   "source": [
    "alphalm = input('What alpha parameter do you want?\\n')\n",
    "while True:\n",
    "    try:\n",
    "        alph1 = float(alphalm)\n",
    "        print('The Lasso model with parameter',alph1,'is:')\n",
    "        break\n",
    "    except:\n",
    "        print('The alpha must be a number.')\n",
    "        alphalm = input('What alpha parameter do you want?\\n')\n",
    "        \n",
    "        \n",
    "lm = Lasso(alpha=float(alphalm), max_iter=1e6)\n",
    "lm.fit(pol_train, y_train)\n",
    "salida = pd.DataFrame(lm.predict(pol_test))\n",
    "print('Los coeficientes del polinomio son: \\n',lm.coef_[1])\n",
    "#salida "
   ]
  },
  {
   "cell_type": "code",
   "execution_count": 238,
   "metadata": {},
   "outputs": [
    {
     "data": {
      "image/png": "[encoded data removed]",
      "text/plain": [
       "<Figure size 432x288 with 1 Axes>"
      ]
     },
     "metadata": {
      "needs_background": "light"
     },
     "output_type": "display_data"
    }
   ],
   "source": [
    "plt.plot(pol_test, salida,'b', alpha=.6 , label='Prediction')\n",
    "plt.plot(pol_test, pd.DataFrame(y_test).dropna() ,'r--', label='Data')\n",
    "plt.legend(loc='best', frameon=False)\n",
    "plt.xlabel('x1')\n",
    "plt.ylabel('y')\n",
    "plt.show()"
   ]
  },
  {
   "cell_type": "code",
   "execution_count": null,
   "metadata": {},
   "outputs": [],
   "source": []
  }
 ],
 "metadata": {
  "kernelspec": {
   "display_name": "Python 3",
   "language": "python",
   "name": "python3"
  },
  "language_info": {
   "codemirror_mode": {
    "name": "ipython",
    "version": 3
   },
   "file_extension": ".py",
   "mimetype": "text/x-python",
   "name": "python",
   "nbconvert_exporter": "python",
   "pygments_lexer": "ipython3",
   "version": "3.8.3"
  }
 },
 "nbformat": 4,
 "nbformat_minor": 4
}
