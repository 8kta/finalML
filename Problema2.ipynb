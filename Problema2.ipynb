{
 "cells": [
  {
   "cell_type": "markdown",
   "metadata": {},
   "source": [
    "# Problema 2\n",
    "Load libraries"
   ]
  },
  {
   "cell_type": "code",
   "execution_count": 50,
   "metadata": {},
   "outputs": [],
   "source": [
    "from scipy import stats\n",
    "import numpy as np\n",
    "import pandas as pd \n",
    "import math\n",
    "import matplotlib.pyplot as plt\n",
    "from random import seed\n",
    "\n",
    "import keras\n",
    "from keras.models import Sequential\n",
    "from keras.layers import Dense\n",
    "from keras.utils import to_categorical\n",
    "from sklearn.preprocessing import LabelBinarizer\n",
    "\n",
    "from keras.wrappers.scikit_learn import KerasClassifier\n",
    "from sklearn.model_selection import KFold\n",
    "from sklearn.model_selection import cross_val_score"
   ]
  },
  {
   "cell_type": "markdown",
   "metadata": {},
   "source": [
    "Now make the database"
   ]
  },
  {
   "cell_type": "code",
   "execution_count": 13,
   "metadata": {},
   "outputs": [],
   "source": [
    "d1 = {'x1' : [0,1,0,1],'x2' : [0,0,1,1],'op_a' : [1,1,1,0],'op_b' : [0,0,0,1]}"
   ]
  },
  {
   "cell_type": "code",
   "execution_count": 17,
   "metadata": {},
   "outputs": [
    {
     "data": {
      "text/html": [
       "<div>\n",
       "<style scoped>\n",
       "    .dataframe tbody tr th:only-of-type {\n",
       "        vertical-align: middle;\n",
       "    }\n",
       "\n",
       "    .dataframe tbody tr th {\n",
       "        vertical-align: top;\n",
       "    }\n",
       "\n",
       "    .dataframe thead th {\n",
       "        text-align: right;\n",
       "    }\n",
       "</style>\n",
       "<table border=\"1\" class=\"dataframe\">\n",
       "  <thead>\n",
       "    <tr style=\"text-align: right;\">\n",
       "      <th></th>\n",
       "      <th>x1</th>\n",
       "      <th>x2</th>\n",
       "      <th>op_a</th>\n",
       "      <th>op_b</th>\n",
       "    </tr>\n",
       "  </thead>\n",
       "  <tbody>\n",
       "    <tr>\n",
       "      <th>0</th>\n",
       "      <td>0</td>\n",
       "      <td>0</td>\n",
       "      <td>1</td>\n",
       "      <td>0</td>\n",
       "    </tr>\n",
       "    <tr>\n",
       "      <th>1</th>\n",
       "      <td>1</td>\n",
       "      <td>0</td>\n",
       "      <td>1</td>\n",
       "      <td>0</td>\n",
       "    </tr>\n",
       "    <tr>\n",
       "      <th>2</th>\n",
       "      <td>0</td>\n",
       "      <td>1</td>\n",
       "      <td>1</td>\n",
       "      <td>0</td>\n",
       "    </tr>\n",
       "    <tr>\n",
       "      <th>3</th>\n",
       "      <td>1</td>\n",
       "      <td>1</td>\n",
       "      <td>0</td>\n",
       "      <td>1</td>\n",
       "    </tr>\n",
       "  </tbody>\n",
       "</table>\n",
       "</div>"
      ],
      "text/plain": [
       "   x1  x2  op_a  op_b\n",
       "0   0   0     1     0\n",
       "1   1   0     1     0\n",
       "2   0   1     1     0\n",
       "3   1   1     0     1"
      ]
     },
     "execution_count": 17,
     "metadata": {},
     "output_type": "execute_result"
    }
   ],
   "source": [
    "df = pd.DataFrame.from_dict(d1)\n",
    "df"
   ]
  },
  {
   "cell_type": "code",
   "execution_count": 26,
   "metadata": {},
   "outputs": [],
   "source": [
    "x_train = df.loc[:,['x1','x2']]\n",
    "y_train = df.loc[:,['op_a','op_b']]\n",
    "y_train_1 = df.loc[:,'op_a']\n",
    "y_train_2 = df.loc[:,'op_b']"
   ]
  },
  {
   "cell_type": "code",
   "execution_count": 41,
   "metadata": {},
   "outputs": [
    {
     "data": {
      "text/html": [
       "<div>\n",
       "<style scoped>\n",
       "    .dataframe tbody tr th:only-of-type {\n",
       "        vertical-align: middle;\n",
       "    }\n",
       "\n",
       "    .dataframe tbody tr th {\n",
       "        vertical-align: top;\n",
       "    }\n",
       "\n",
       "    .dataframe thead th {\n",
       "        text-align: right;\n",
       "    }\n",
       "</style>\n",
       "<table border=\"1\" class=\"dataframe\">\n",
       "  <thead>\n",
       "    <tr style=\"text-align: right;\">\n",
       "      <th></th>\n",
       "      <th>0</th>\n",
       "    </tr>\n",
       "  </thead>\n",
       "  <tbody>\n",
       "    <tr>\n",
       "      <th>0</th>\n",
       "      <td>1.001</td>\n",
       "    </tr>\n",
       "    <tr>\n",
       "      <th>1</th>\n",
       "      <td>0.000</td>\n",
       "    </tr>\n",
       "    <tr>\n",
       "      <th>2</th>\n",
       "      <td>0.001</td>\n",
       "    </tr>\n",
       "    <tr>\n",
       "      <th>3</th>\n",
       "      <td>1.000</td>\n",
       "    </tr>\n",
       "  </tbody>\n",
       "</table>\n",
       "</div>"
      ],
      "text/plain": [
       "       0\n",
       "0  1.001\n",
       "1  0.000\n",
       "2  0.001\n",
       "3  1.000"
      ]
     },
     "execution_count": 41,
     "metadata": {},
     "output_type": "execute_result"
    }
   ],
   "source": [
    "pred_1 = pd.DataFrame([1.001, 0, .001, 1])\n",
    "pred_2 = pd.DataFrame([0, 1, 0, 1])\n",
    "pred_3 = [0, 1, 1, 0]\n",
    "pred_1"
   ]
  },
  {
   "cell_type": "code",
   "execution_count": 43,
   "metadata": {},
   "outputs": [
    {
     "name": "stdout",
     "output_type": "stream",
     "text": [
      "Help on function train_test_split in module sklearn.model_selection._split:\n",
      "\n",
      "train_test_split(*arrays, **options)\n",
      "    Split arrays or matrices into random train and test subsets\n",
      "    \n",
      "    Quick utility that wraps input validation and\n",
      "    ``next(ShuffleSplit().split(X, y))`` and application to input data\n",
      "    into a single call for splitting (and optionally subsampling) data in a\n",
      "    oneliner.\n",
      "    \n",
      "    Read more in the :ref:`User Guide <cross_validation>`.\n",
      "    \n",
      "    Parameters\n",
      "    ----------\n",
      "    *arrays : sequence of indexables with same length / shape[0]\n",
      "        Allowed inputs are lists, numpy arrays, scipy-sparse\n",
      "        matrices or pandas dataframes.\n",
      "    \n",
      "    test_size : float or int, default=None\n",
      "        If float, should be between 0.0 and 1.0 and represent the proportion\n",
      "        of the dataset to include in the test split. If int, represents the\n",
      "        absolute number of test samples. If None, the value is set to the\n",
      "        complement of the train size. If ``train_size`` is also None, it will\n",
      "        be set to 0.25.\n",
      "    \n",
      "    train_size : float or int, default=None\n",
      "        If float, should be between 0.0 and 1.0 and represent the\n",
      "        proportion of the dataset to include in the train split. If\n",
      "        int, represents the absolute number of train samples. If None,\n",
      "        the value is automatically set to the complement of the test size.\n",
      "    \n",
      "    random_state : int or RandomState instance, default=None\n",
      "        Controls the shuffling applied to the data before applying the split.\n",
      "        Pass an int for reproducible output across multiple function calls.\n",
      "        See :term:`Glossary <random_state>`.\n",
      "    \n",
      "    \n",
      "    shuffle : bool, default=True\n",
      "        Whether or not to shuffle the data before splitting. If shuffle=False\n",
      "        then stratify must be None.\n",
      "    \n",
      "    stratify : array-like, default=None\n",
      "        If not None, data is split in a stratified fashion, using this as\n",
      "        the class labels.\n",
      "    \n",
      "    Returns\n",
      "    -------\n",
      "    splitting : list, length=2 * len(arrays)\n",
      "        List containing train-test split of inputs.\n",
      "    \n",
      "        .. versionadded:: 0.16\n",
      "            If the input is sparse, the output will be a\n",
      "            ``scipy.sparse.csr_matrix``. Else, output type is the same as the\n",
      "            input type.\n",
      "    \n",
      "    Examples\n",
      "    --------\n",
      "    >>> import numpy as np\n",
      "    >>> from sklearn.model_selection import train_test_split\n",
      "    >>> X, y = np.arange(10).reshape((5, 2)), range(5)\n",
      "    >>> X\n",
      "    array([[0, 1],\n",
      "           [2, 3],\n",
      "           [4, 5],\n",
      "           [6, 7],\n",
      "           [8, 9]])\n",
      "    >>> list(y)\n",
      "    [0, 1, 2, 3, 4]\n",
      "    \n",
      "    >>> X_train, X_test, y_train, y_test = train_test_split(\n",
      "    ...     X, y, test_size=0.33, random_state=42)\n",
      "    ...\n",
      "    >>> X_train\n",
      "    array([[4, 5],\n",
      "           [0, 1],\n",
      "           [6, 7]])\n",
      "    >>> y_train\n",
      "    [2, 0, 3]\n",
      "    >>> X_test\n",
      "    array([[2, 3],\n",
      "           [8, 9]])\n",
      "    >>> y_test\n",
      "    [1, 4]\n",
      "    \n",
      "    >>> train_test_split(y, shuffle=False)\n",
      "    [[0, 1, 2], [3, 4]]\n",
      "\n"
     ]
    }
   ],
   "source": [
    "help(train_test_split)"
   ]
  },
  {
   "cell_type": "code",
   "execution_count": 60,
   "metadata": {},
   "outputs": [],
   "source": [
    "from sklearn.model_selection import train_test_split\n",
    "x_train, x_test, y_train, y_test = train_test_split(df , pred_2, test_size=0.3)"
   ]
  },
  {
   "cell_type": "markdown",
   "metadata": {},
   "source": [
    "We are ready to construct the model, we are going to use a neural network with keras. "
   ]
  },
  {
   "cell_type": "code",
   "execution_count": 61,
   "metadata": {},
   "outputs": [],
   "source": [
    "def nn_model():\n",
    "    model = Sequential()\n",
    "    model.add(Dense(60, activation='relu', input_shape=(x_train.shape[1],)))\n",
    "    model.add(Dense(1))\n",
    "    \n",
    "    model.compile(optimizer='rmsprop', loss='mse', metrics=['mae'])\n",
    "    return model\n",
    "\n",
    "model = nn_model()"
   ]
  },
  {
   "cell_type": "markdown",
   "metadata": {},
   "source": [
    "Ajust model"
   ]
  },
  {
   "cell_type": "code",
   "execution_count": 62,
   "metadata": {},
   "outputs": [
    {
     "name": "stdout",
     "output_type": "stream",
     "text": [
      "Epoch 1/100\n",
      "1/1 - 1s - loss: 1.1888 - mae: 1.0903 - val_loss: 5.0276e-07 - val_mae: 7.0906e-04\n",
      "Epoch 2/100\n",
      "1/1 - 0s - loss: 1.0586 - mae: 1.0289 - val_loss: 6.9048e-04 - val_mae: 0.0263\n",
      "Epoch 3/100\n",
      "1/1 - 0s - loss: 0.9722 - mae: 0.9860 - val_loss: 0.0024 - val_mae: 0.0486\n",
      "Epoch 4/100\n",
      "1/1 - 0s - loss: 0.9037 - mae: 0.9506 - val_loss: 0.0047 - val_mae: 0.0683\n",
      "Epoch 5/100\n",
      "1/1 - 0s - loss: 0.8455 - mae: 0.9195 - val_loss: 0.0074 - val_mae: 0.0861\n",
      "Epoch 6/100\n",
      "1/1 - 0s - loss: 0.7943 - mae: 0.8913 - val_loss: 0.0105 - val_mae: 0.1026\n",
      "Epoch 7/100\n",
      "1/1 - 0s - loss: 0.7483 - mae: 0.8650 - val_loss: 0.0140 - val_mae: 0.1181\n",
      "Epoch 8/100\n",
      "1/1 - 0s - loss: 0.7062 - mae: 0.8404 - val_loss: 0.0177 - val_mae: 0.1329\n",
      "Epoch 9/100\n",
      "1/1 - 0s - loss: 0.6673 - mae: 0.8169 - val_loss: 0.0216 - val_mae: 0.1470\n",
      "Epoch 10/100\n",
      "1/1 - 0s - loss: 0.6311 - mae: 0.7944 - val_loss: 0.0258 - val_mae: 0.1606\n",
      "Epoch 11/100\n",
      "1/1 - 0s - loss: 0.5971 - mae: 0.7727 - val_loss: 0.0302 - val_mae: 0.1738\n",
      "Epoch 12/100\n",
      "1/1 - 0s - loss: 0.5651 - mae: 0.7517 - val_loss: 0.0348 - val_mae: 0.1865\n",
      "Epoch 13/100\n",
      "1/1 - 0s - loss: 0.5348 - mae: 0.7313 - val_loss: 0.0396 - val_mae: 0.1990\n",
      "Epoch 14/100\n",
      "1/1 - 0s - loss: 0.5061 - mae: 0.7114 - val_loss: 0.0446 - val_mae: 0.2111\n",
      "Epoch 15/100\n",
      "1/1 - 0s - loss: 0.4787 - mae: 0.6919 - val_loss: 0.0500 - val_mae: 0.2235\n",
      "Epoch 16/100\n",
      "1/1 - 0s - loss: 0.4527 - mae: 0.6728 - val_loss: 0.0556 - val_mae: 0.2357\n",
      "Epoch 17/100\n",
      "1/1 - 0s - loss: 0.4278 - mae: 0.6540 - val_loss: 0.0613 - val_mae: 0.2477\n",
      "Epoch 18/100\n",
      "1/1 - 0s - loss: 0.4040 - mae: 0.6356 - val_loss: 0.0673 - val_mae: 0.2594\n",
      "Epoch 19/100\n",
      "1/1 - 0s - loss: 0.3812 - mae: 0.6174 - val_loss: 0.0734 - val_mae: 0.2710\n",
      "Epoch 20/100\n",
      "1/1 - 0s - loss: 0.3594 - mae: 0.5995 - val_loss: 0.0798 - val_mae: 0.2824\n",
      "Epoch 21/100\n",
      "1/1 - 0s - loss: 0.3385 - mae: 0.5818 - val_loss: 0.0863 - val_mae: 0.2937\n",
      "Epoch 22/100\n",
      "1/1 - 0s - loss: 0.3184 - mae: 0.5643 - val_loss: 0.0929 - val_mae: 0.3048\n",
      "Epoch 23/100\n",
      "1/1 - 0s - loss: 0.2992 - mae: 0.5470 - val_loss: 0.0997 - val_mae: 0.3158\n",
      "Epoch 24/100\n",
      "1/1 - 0s - loss: 0.2808 - mae: 0.5299 - val_loss: 0.1067 - val_mae: 0.3266\n",
      "Epoch 25/100\n",
      "1/1 - 0s - loss: 0.2632 - mae: 0.5130 - val_loss: 0.1138 - val_mae: 0.3373\n",
      "Epoch 26/100\n",
      "1/1 - 0s - loss: 0.2464 - mae: 0.4964 - val_loss: 0.1210 - val_mae: 0.3479\n",
      "Epoch 27/100\n",
      "1/1 - 0s - loss: 0.2304 - mae: 0.4800 - val_loss: 0.1284 - val_mae: 0.3583\n",
      "Epoch 28/100\n",
      "1/1 - 0s - loss: 0.2150 - mae: 0.4637 - val_loss: 0.1359 - val_mae: 0.3687\n",
      "Epoch 29/100\n",
      "1/1 - 0s - loss: 0.2004 - mae: 0.4476 - val_loss: 0.1435 - val_mae: 0.3789\n",
      "Epoch 30/100\n",
      "1/1 - 0s - loss: 0.1864 - mae: 0.4317 - val_loss: 0.1514 - val_mae: 0.3891\n",
      "Epoch 31/100\n",
      "1/1 - 0s - loss: 0.1730 - mae: 0.4159 - val_loss: 0.1595 - val_mae: 0.3994\n",
      "Epoch 32/100\n",
      "1/1 - 0s - loss: 0.1603 - mae: 0.4004 - val_loss: 0.1677 - val_mae: 0.4095\n",
      "Epoch 33/100\n",
      "1/1 - 0s - loss: 0.1488 - mae: 0.3858 - val_loss: 0.1758 - val_mae: 0.4193\n",
      "Epoch 34/100\n",
      "1/1 - 0s - loss: 0.1379 - mae: 0.3713 - val_loss: 0.1841 - val_mae: 0.4291\n",
      "Epoch 35/100\n",
      "1/1 - 0s - loss: 0.1274 - mae: 0.3570 - val_loss: 0.1925 - val_mae: 0.4387\n",
      "Epoch 36/100\n",
      "1/1 - 0s - loss: 0.1175 - mae: 0.3428 - val_loss: 0.2010 - val_mae: 0.4483\n",
      "Epoch 37/100\n",
      "1/1 - 0s - loss: 0.1081 - mae: 0.3287 - val_loss: 0.2095 - val_mae: 0.4578\n",
      "Epoch 38/100\n",
      "1/1 - 0s - loss: 0.0991 - mae: 0.3148 - val_loss: 0.2182 - val_mae: 0.4671\n",
      "Epoch 39/100\n",
      "1/1 - 0s - loss: 0.0906 - mae: 0.3011 - val_loss: 0.2269 - val_mae: 0.4763\n",
      "Epoch 40/100\n",
      "1/1 - 0s - loss: 0.0826 - mae: 0.2875 - val_loss: 0.2357 - val_mae: 0.4854\n",
      "Epoch 41/100\n",
      "1/1 - 0s - loss: 0.0751 - mae: 0.2740 - val_loss: 0.2445 - val_mae: 0.4944\n",
      "Epoch 42/100\n",
      "1/1 - 0s - loss: 0.0680 - mae: 0.2608 - val_loss: 0.2533 - val_mae: 0.5033\n",
      "Epoch 43/100\n",
      "1/1 - 0s - loss: 0.0614 - mae: 0.2477 - val_loss: 0.2621 - val_mae: 0.5120\n",
      "Epoch 44/100\n",
      "1/1 - 0s - loss: 0.0552 - mae: 0.2349 - val_loss: 0.2710 - val_mae: 0.5206\n",
      "Epoch 45/100\n",
      "1/1 - 0s - loss: 0.0494 - mae: 0.2223 - val_loss: 0.2798 - val_mae: 0.5290\n",
      "Epoch 46/100\n",
      "1/1 - 0s - loss: 0.0440 - mae: 0.2099 - val_loss: 0.2886 - val_mae: 0.5372\n",
      "Epoch 47/100\n",
      "1/1 - 0s - loss: 0.0391 - mae: 0.1977 - val_loss: 0.2973 - val_mae: 0.5453\n",
      "Epoch 48/100\n",
      "1/1 - 0s - loss: 0.0345 - mae: 0.1858 - val_loss: 0.3060 - val_mae: 0.5532\n",
      "Epoch 49/100\n",
      "1/1 - 0s - loss: 0.0303 - mae: 0.1741 - val_loss: 0.3146 - val_mae: 0.5609\n",
      "Epoch 50/100\n",
      "1/1 - 0s - loss: 0.0265 - mae: 0.1627 - val_loss: 0.3231 - val_mae: 0.5684\n",
      "Epoch 51/100\n",
      "1/1 - 0s - loss: 0.0230 - mae: 0.1516 - val_loss: 0.3314 - val_mae: 0.5757\n",
      "Epoch 52/100\n",
      "1/1 - 0s - loss: 0.0198 - mae: 0.1409 - val_loss: 0.3396 - val_mae: 0.5827\n",
      "Epoch 53/100\n",
      "1/1 - 0s - loss: 0.0170 - mae: 0.1304 - val_loss: 0.3476 - val_mae: 0.5896\n",
      "Epoch 54/100\n",
      "1/1 - 0s - loss: 0.0145 - mae: 0.1203 - val_loss: 0.3554 - val_mae: 0.5962\n",
      "Epoch 55/100\n",
      "1/1 - 0s - loss: 0.0122 - mae: 0.1106 - val_loss: 0.3630 - val_mae: 0.6025\n",
      "Epoch 56/100\n",
      "1/1 - 0s - loss: 0.0102 - mae: 0.1012 - val_loss: 0.3704 - val_mae: 0.6086\n",
      "Epoch 57/100\n",
      "1/1 - 0s - loss: 0.0085 - mae: 0.0922 - val_loss: 0.3775 - val_mae: 0.6144\n",
      "Epoch 58/100\n",
      "1/1 - 0s - loss: 0.0070 - mae: 0.0836 - val_loss: 0.3843 - val_mae: 0.6199\n",
      "Epoch 59/100\n",
      "1/1 - 0s - loss: 0.0057 - mae: 0.0754 - val_loss: 0.3908 - val_mae: 0.6252\n",
      "Epoch 60/100\n",
      "1/1 - 0s - loss: 0.0046 - mae: 0.0677 - val_loss: 0.3969 - val_mae: 0.6300\n",
      "Epoch 61/100\n",
      "1/1 - 0s - loss: 0.0036 - mae: 0.0604 - val_loss: 0.4027 - val_mae: 0.6346\n",
      "Epoch 62/100\n",
      "1/1 - 0s - loss: 0.0029 - mae: 0.0535 - val_loss: 0.4082 - val_mae: 0.6389\n",
      "Epoch 63/100\n",
      "1/1 - 0s - loss: 0.0022 - mae: 0.0471 - val_loss: 0.4132 - val_mae: 0.6428\n",
      "Epoch 64/100\n",
      "1/1 - 0s - loss: 0.0017 - mae: 0.0412 - val_loss: 0.4179 - val_mae: 0.6465\n",
      "Epoch 65/100\n",
      "1/1 - 0s - loss: 0.0013 - mae: 0.0358 - val_loss: 0.4222 - val_mae: 0.6498\n",
      "Epoch 66/100\n",
      "1/1 - 0s - loss: 9.4853e-04 - mae: 0.0308 - val_loss: 0.4262 - val_mae: 0.6528\n",
      "Epoch 67/100\n",
      "1/1 - 0s - loss: 6.9058e-04 - mae: 0.0263 - val_loss: 0.4297 - val_mae: 0.6555\n",
      "Epoch 68/100\n",
      "1/1 - 0s - loss: 4.9347e-04 - mae: 0.0222 - val_loss: 0.4329 - val_mae: 0.6579\n",
      "Epoch 69/100\n",
      "1/1 - 0s - loss: 3.4564e-04 - mae: 0.0186 - val_loss: 0.4357 - val_mae: 0.6601\n",
      "Epoch 70/100\n",
      "1/1 - 0s - loss: 2.3698e-04 - mae: 0.0154 - val_loss: 0.4382 - val_mae: 0.6619\n",
      "Epoch 71/100\n",
      "1/1 - 0s - loss: 1.5881e-04 - mae: 0.0126 - val_loss: 0.4403 - val_mae: 0.6636\n",
      "Epoch 72/100\n",
      "1/1 - 0s - loss: 1.0387e-04 - mae: 0.0102 - val_loss: 0.4421 - val_mae: 0.6649\n",
      "Epoch 73/100\n",
      "1/1 - 0s - loss: 6.6182e-05 - mae: 0.0081 - val_loss: 0.4437 - val_mae: 0.6661\n",
      "Epoch 74/100\n",
      "1/1 - 0s - loss: 4.1013e-05 - mae: 0.0064 - val_loss: 0.4449 - val_mae: 0.6670\n",
      "Epoch 75/100\n",
      "1/1 - 0s - loss: 2.4670e-05 - mae: 0.0050 - val_loss: 0.4460 - val_mae: 0.6678\n",
      "Epoch 76/100\n",
      "1/1 - 0s - loss: 1.4374e-05 - mae: 0.0038 - val_loss: 0.4468 - val_mae: 0.6685\n",
      "Epoch 77/100\n",
      "1/1 - 0s - loss: 8.0943e-06 - mae: 0.0028 - val_loss: 0.4475 - val_mae: 0.6690\n",
      "Epoch 78/100\n",
      "1/1 - 0s - loss: 4.3940e-06 - mae: 0.0021 - val_loss: 0.4480 - val_mae: 0.6693\n",
      "Epoch 79/100\n",
      "1/1 - 0s - loss: 2.2937e-06 - mae: 0.0015 - val_loss: 0.4484 - val_mae: 0.6696\n",
      "Epoch 80/100\n",
      "1/1 - 0s - loss: 1.1479e-06 - mae: 0.0011 - val_loss: 0.4487 - val_mae: 0.6698\n",
      "Epoch 81/100\n",
      "1/1 - 0s - loss: 5.4891e-07 - mae: 7.4089e-04 - val_loss: 0.4489 - val_mae: 0.6700\n",
      "Epoch 82/100\n",
      "1/1 - 0s - loss: 2.5002e-07 - mae: 5.0002e-04 - val_loss: 0.4490 - val_mae: 0.6701\n",
      "Epoch 83/100\n",
      "1/1 - 0s - loss: 1.0794e-07 - mae: 3.2854e-04 - val_loss: 0.4491 - val_mae: 0.6702\n",
      "Epoch 84/100\n",
      "1/1 - 0s - loss: 4.3970e-08 - mae: 2.0969e-04 - val_loss: 0.4492 - val_mae: 0.6702\n",
      "Epoch 85/100\n",
      "1/1 - 0s - loss: 1.6853e-08 - mae: 1.2982e-04 - val_loss: 0.4493 - val_mae: 0.6703\n",
      "Epoch 86/100\n",
      "1/1 - 0s - loss: 6.0504e-09 - mae: 7.7784e-05 - val_loss: 0.4493 - val_mae: 0.6703\n",
      "Epoch 87/100\n",
      "1/1 - 0s - loss: 2.0091e-09 - mae: 4.4823e-05 - val_loss: 0.4493 - val_mae: 0.6703\n",
      "Epoch 88/100\n",
      "1/1 - 0s - loss: 6.1187e-10 - mae: 2.4736e-05 - val_loss: 0.4493 - val_mae: 0.6703\n",
      "Epoch 89/100\n",
      "1/1 - 0s - loss: 1.7352e-10 - mae: 1.3173e-05 - val_loss: 0.4493 - val_mae: 0.6703\n",
      "Epoch 90/100\n",
      "1/1 - 0s - loss: 4.2988e-11 - mae: 6.5565e-06 - val_loss: 0.4493 - val_mae: 0.6703\n",
      "Epoch 91/100\n",
      "1/1 - 0s - loss: 9.9796e-12 - mae: 3.1590e-06 - val_loss: 0.4493 - val_mae: 0.6703\n",
      "Epoch 92/100\n",
      "1/1 - 0s - loss: 2.0464e-12 - mae: 1.4305e-06 - val_loss: 0.4493 - val_mae: 0.6703\n"
     ]
    },
    {
     "name": "stdout",
     "output_type": "stream",
     "text": [
      "Epoch 93/100\n",
      "1/1 - 0s - loss: 4.2988e-13 - mae: 6.5565e-07 - val_loss: 0.4493 - val_mae: 0.6703\n",
      "Epoch 94/100\n",
      "1/1 - 0s - loss: 8.8818e-14 - mae: 2.9802e-07 - val_loss: 0.4493 - val_mae: 0.6703\n",
      "Epoch 95/100\n",
      "1/1 - 0s - loss: 0.0000e+00 - mae: 0.0000e+00 - val_loss: 0.4493 - val_mae: 0.6703\n",
      "Epoch 96/100\n",
      "1/1 - 0s - loss: 0.0000e+00 - mae: 0.0000e+00 - val_loss: 0.4493 - val_mae: 0.6703\n",
      "Epoch 97/100\n",
      "1/1 - 0s - loss: 0.0000e+00 - mae: 0.0000e+00 - val_loss: 0.4493 - val_mae: 0.6703\n",
      "Epoch 98/100\n",
      "1/1 - 0s - loss: 0.0000e+00 - mae: 0.0000e+00 - val_loss: 0.4493 - val_mae: 0.6703\n",
      "Epoch 99/100\n",
      "1/1 - 0s - loss: 0.0000e+00 - mae: 0.0000e+00 - val_loss: 0.4493 - val_mae: 0.6703\n",
      "Epoch 100/100\n",
      "1/1 - 0s - loss: 0.0000e+00 - mae: 0.0000e+00 - val_loss: 0.4493 - val_mae: 0.6703\n"
     ]
    }
   ],
   "source": [
    "resultados = model.fit( x_train,  y_train, validation_split=0.3, epochs=100, verbose=2)"
   ]
  },
  {
   "cell_type": "code",
   "execution_count": 63,
   "metadata": {},
   "outputs": [
    {
     "data": {
      "image/png": "[encoded data removed]",
      "text/plain": [
       "<Figure size 432x288 with 1 Axes>"
      ]
     },
     "metadata": {
      "needs_background": "light"
     },
     "output_type": "display_data"
    }
   ],
   "source": [
    "plt.plot(resultados.history['loss'])\n",
    "plt.plot(resultados.history['val_loss'])\n",
    "plt.ylabel('Loss')\n",
    "plt.xlabel('Epoch')\n",
    "plt.legend(['Entrenamiento', 'Validación'], loc='upper left')\n",
    "plt.show()"
   ]
  },
  {
   "cell_type": "code",
   "execution_count": 64,
   "metadata": {},
   "outputs": [
    {
     "name": "stdout",
     "output_type": "stream",
     "text": [
      "1/1 [==============================] - 0s 17ms/step - loss: 0.2802 - mae: 0.5216\n"
     ]
    },
    {
     "data": {
      "text/plain": [
       "0.5215883255004883"
      ]
     },
     "execution_count": 64,
     "metadata": {},
     "output_type": "execute_result"
    }
   ],
   "source": [
    "test_mse_score, test_mae_score = model.evaluate(x_test, y_test)\n",
    "test_mae_score"
   ]
  },
  {
   "cell_type": "code",
   "execution_count": 65,
   "metadata": {},
   "outputs": [
    {
     "data": {
      "text/html": [
       "<div>\n",
       "<style scoped>\n",
       "    .dataframe tbody tr th:only-of-type {\n",
       "        vertical-align: middle;\n",
       "    }\n",
       "\n",
       "    .dataframe tbody tr th {\n",
       "        vertical-align: top;\n",
       "    }\n",
       "\n",
       "    .dataframe thead th {\n",
       "        text-align: right;\n",
       "    }\n",
       "</style>\n",
       "<table border=\"1\" class=\"dataframe\">\n",
       "  <thead>\n",
       "    <tr style=\"text-align: right;\">\n",
       "      <th></th>\n",
       "      <th>x1</th>\n",
       "      <th>x2</th>\n",
       "      <th>op_a</th>\n",
       "      <th>op_b</th>\n",
       "    </tr>\n",
       "  </thead>\n",
       "  <tbody>\n",
       "    <tr>\n",
       "      <th>1</th>\n",
       "      <td>1</td>\n",
       "      <td>0</td>\n",
       "      <td>1</td>\n",
       "      <td>0</td>\n",
       "    </tr>\n",
       "    <tr>\n",
       "      <th>0</th>\n",
       "      <td>0</td>\n",
       "      <td>0</td>\n",
       "      <td>1</td>\n",
       "      <td>0</td>\n",
       "    </tr>\n",
       "  </tbody>\n",
       "</table>\n",
       "</div>"
      ],
      "text/plain": [
       "   x1  x2  op_a  op_b\n",
       "1   1   0     1     0\n",
       "0   0   0     1     0"
      ]
     },
     "execution_count": 65,
     "metadata": {},
     "output_type": "execute_result"
    }
   ],
   "source": [
    "x_train"
   ]
  },
  {
   "cell_type": "code",
   "execution_count": 66,
   "metadata": {},
   "outputs": [
    {
     "name": "stdout",
     "output_type": "stream",
     "text": [
      "[[0.9999999]\n",
      " [0.6703211]]\n"
     ]
    }
   ],
   "source": [
    "predicciones = model.predict(x_train)\n",
    "print(predicciones)"
   ]
  },
  {
   "cell_type": "code",
   "execution_count": null,
   "metadata": {},
   "outputs": [],
   "source": [
    "import numpy as np\n",
    "    from keras.models import Sequential\n",
    "    from keras.layers.core import Dense\n",
    "    training_data = np.array([[0,0],[0,1],[1,0],[1,1]], \"float32\")\n",
    "    target_data = np.array([[0],[1],[1],[0]], \"float32\")\n",
    "    model = Sequential()\n",
    "    model.add(Dense(16, input_dim=2, activation='relu'))\n",
    "    model.add(Dense(1, activation='sigmoid'))\n",
    "    model.compile(loss='mean_squared_error',\n",
    "    optimizer='adam',\n",
    "    metrics=['binary_accuracy'])\n",
    "    model.fit(training_data, target_data, epochs=1000)\n",
    "    scores = model.evaluate(training_data, target_data)\n",
    "    print(\"\\n%s: %.2f%%\" % (model.metrics_names[1], scores[1]*100))\n",
    "    print (model.predict(training_data).round())\n",
    "    \n",
    "    def nn_model():\n",
    "    model = Sequential()\n",
    "    model.add(Dense(16, input_dim=2, activation='relu'))\n",
    "    model.add(Dense(1, activation='sigmoid'))\n",
    "    \n",
    "    model.compile(loss='mean_squared_error',optimizer='adam',metrics=['binary_accuracy'])\n",
    "    return model\n",
    "\n",
    "model = nn_model()"
   ]
  }
 ],
 "metadata": {
  "kernelspec": {
   "display_name": "Python 3",
   "language": "python",
   "name": "python3"
  },
  "language_info": {
   "codemirror_mode": {
    "name": "ipython",
    "version": 3
   },
   "file_extension": ".py",
   "mimetype": "text/x-python",
   "name": "python",
   "nbconvert_exporter": "python",
   "pygments_lexer": "ipython3",
   "version": "3.8.3"
  }
 },
 "nbformat": 4,
 "nbformat_minor": 4
}
